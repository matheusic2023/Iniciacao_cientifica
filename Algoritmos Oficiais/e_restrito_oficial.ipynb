{
 "cells": [
  {
   "cell_type": "code",
   "execution_count": 2,
   "metadata": {},
   "outputs": [
    {
     "data": {
      "text/plain": [
       "'\\nOBS: todas as matrizes e vetores são np.array!\\nn = # de variáveis do problema\\nA = Matriz dos coeficientes das desigualdades <= de X, sem contar as restrições feitas com as funções objetivas\\nb = vetor de Ax<=b\\ncoeficientes_fun_pri = Matriz de Coeficientes da função objetiva a ser otimizada\\nC =Matriz dos coeficientes das desigualdades >= de X, sem contar as restrições feitas com as funções objetivas\\nd = vetor de Ax>=d\\nnum_funcao_restricao = numero de Funções que irão se tornar restrições\\nmatriz_coeficientes_f_aux = Coeficientes de tais funções\\nepsilons = vetor dos epsilons\\n'"
      ]
     },
     "execution_count": 2,
     "metadata": {},
     "output_type": "execute_result"
    }
   ],
   "source": [
    "\"\"\"\n",
    "OBS: todas as matrizes e vetores são np.array!\n",
    "n = # de variáveis do problema\n",
    "A = Matriz dos coeficientes das desigualdades <= de X, sem contar as restrições feitas com as funções objetivas\n",
    "b = vetor de Ax<=b\n",
    "coeficientes_fun_pri = Matriz de Coeficientes da função objetiva a ser otimizada\n",
    "C =Matriz dos coeficientes das desigualdades >= de X, sem contar as restrições feitas com as funções objetivas\n",
    "d = vetor de Ax>=d\n",
    "num_funcao_restricao = numero de Funções que irão se tornar restrições\n",
    "matriz_coeficientes_f_aux = Coeficientes de tais funções\n",
    "epsilons = vetor dos epsilons\n",
    "\"\"\""
   ]
  },
  {
   "cell_type": "code",
   "execution_count": 3,
   "metadata": {},
   "outputs": [],
   "source": [
    "from pulp import LpMaximize, LpProblem, LpStatus, lpSum, LpVariable,lpDot\n",
    "import numpy as np\n",
    "\n",
    "\n",
    "def e_restrito(n,A,b,C,d,coeficientes_fun_pri,num_funcao_restricao,matriz_coeficientes_f_aux,epsilons):\n",
    "    model = LpProblem(name=\"large-problem\", sense=LpMaximize)\n",
    "   # Neste trabalho será tratado apenas dos casos lineares com variáveis reais\n",
    "\n",
    "    x = [LpVariable(name=f\"x{i}\", lowBound=0) for i in range(n)]\n",
    "    # Restrições <=\n",
    "    if isinstance(A, (list, np.ndarray)) and isinstance(b, (list, np.ndarray)):\n",
    "        rest1 = A.shape[0]\n",
    "    \n",
    "    # Criamos Uma lista que contêm todas as variáveis do problema.\n",
    "\n",
    "        for i in range(rest1):\n",
    "            model += (lpDot(A[i], x) <= b[i], f\"restrição {i}\")\n",
    "    else:\n",
    "        pass\n",
    "    if isinstance(A, (list, np.ndarray)) and isinstance(b, (list, np.ndarray)):\n",
    "        rest2 = C.shape[0]\n",
    "        \n",
    "        # Restrições >=\n",
    "        \n",
    "        for i in range(rest2):\n",
    "            model += (lpDot(C[i], x) >= d[i], f\"restrição {i + rest1}\")\n",
    "    else:\n",
    "        pass\n",
    "\n",
    "    # Funções Objetivas\n",
    "    \n",
    "\n",
    "    funcao_principal = lpDot(coeficientes_fun_pri,x)\n",
    "    model += funcao_principal\n",
    "\n",
    "\n",
    "    for i in range(num_funcao_restricao):\n",
    "        model += (lpDot(matriz_coeficientes_f_aux[i], x) >= epsilons[i], f\"restrição {rest1+rest2+i}\")\n",
    "\n",
    "\n",
    "    status = model.solve()\n",
    "    sol = np.zeros(n)\n",
    "    for i in range(n):\n",
    "        sol[i] = x[i].value()\n",
    "    print(f\"Solução: {sol}\")\n",
    "    sol = np.transpose(sol)\n",
    "    value_func_aux = np.zeros(num_funcao_restricao)\n",
    "    \n",
    "    for i in range(num_funcao_restricao):\n",
    "     value_func_aux[i] = np.dot(matriz_coeficientes_f_aux,sol)\n",
    "    for i in range(num_funcao_restricao):\n",
    "        print(f\"O valor de f{i+2} é: {value_func_aux[i]}\")\n",
    "    print(f\"status: {model.status}, {LpStatus[model.status]}\")\n",
    "    print(f\"Objetivo: {model.objective.value()}\")\n",
    "    #print(model)"
   ]
  },
  {
   "cell_type": "code",
   "execution_count": 5,
   "metadata": {},
   "outputs": [
    {
     "name": "stdout",
     "output_type": "stream",
     "text": [
      "Para o epsilon: 35, temos a seguinte solução:\n",
      "Solução: [3.8793075  2.9556707  0.         0.         0.         0.71244714]\n",
      "O valor de f2 é: 36.39053596\n",
      "status: 1, Optimal\n",
      "Objetivo: -7.758401622\n",
      "Para o epsilon: 45, temos a seguinte solução:\n",
      "Solução: [4.0389729  2.63634    0.4162338  0.         0.         0.45584998]\n",
      "O valor de f2 é: 45.000000019999995\n",
      "status: 1, Optimal\n",
      "Objetivo: -8.004095524\n",
      "Para o epsilon: 55, temos a seguinte solução:\n",
      "Solução: [4.2244261  2.2654334  0.89969456 0.         0.         0.15780918]\n",
      "O valor de f2 é: 54.99999974\n",
      "status: 1, Optimal\n",
      "Objetivo: -8.289471956\n",
      "Para o epsilon: 65, temos a seguinte solução:\n",
      "Solução: [3.6824899 2.5418719 1.2888491 0.        0.        0.       ]\n",
      "O valor de f2 é: 65.0000004\n",
      "status: 1, Optimal\n",
      "Objetivo: -8.7135692\n",
      "Para o epsilon: 75, temos a seguinte solução:\n",
      "Solução: [2.3219884 3.546798  1.5718764 0.        0.        0.       ]\n",
      "O valor de f2 é: 75.0\n",
      "status: 1, Optimal\n",
      "Objetivo: -9.2937752\n",
      "Para o epsilon: 85, temos a seguinte solução:\n",
      "Solução: [1.6937326 3.755392  1.9106826 0.        0.        0.       ]\n",
      "O valor de f2 é: 85.000001\n",
      "status: 1, Optimal\n",
      "Objetivo: -9.8936819\n",
      "Para o epsilon: 95, temos a seguinte solução:\n",
      "Solução: [2.2139051 2.7150469 2.3369703 0.        0.        0.       ]\n",
      "O valor de f2 é: 94.99999940000001\n",
      "status: 1, Optimal\n",
      "Objetivo: -10.5244861\n"
     ]
    }
   ],
   "source": [
    "# Problema da Dieta\n",
    "\n",
    "n=6\n",
    "A = np.array([[216,164,456,516,176,670],[28,14,0,0,5,0],[2,8,0,0,0,0],[166,167,205,209,236,228],[2,2,8,12,8,13]])\n",
    "d=np.array([1800,100,25,1300,22])\n",
    "C = A\n",
    "#d=np.array([100,22,1500,25,1800])\n",
    "b = np.array([2500,150,36,2300,29])\n",
    "coeficientes_fun_pri=np.array([-0.8,-0.9,-2.7,-4,-6.5,-2.8])\n",
    "num_funcao_restricao=1\n",
    "matriz_coeficientes_f_aux = np.array([[3,5,32,32,15,14]])\n",
    "eps = [35,45,55,65,75,85,95]\n",
    "\n",
    "for i in range(len(eps)):\n",
    "    print(f\"Para o epsilon: {eps[i]}, temos a seguinte solução:\")\n",
    "    e_restrito(n,A,b,C,d,coeficientes_fun_pri,num_funcao_restricao,matriz_coeficientes_f_aux,np.array([eps[i]]))"
   ]
  }
 ],
 "metadata": {
  "kernelspec": {
   "display_name": "Python 3",
   "language": "python",
   "name": "python3"
  },
  "language_info": {
   "codemirror_mode": {
    "name": "ipython",
    "version": 3
   },
   "file_extension": ".py",
   "mimetype": "text/x-python",
   "name": "python",
   "nbconvert_exporter": "python",
   "pygments_lexer": "ipython3",
   "version": "3.8.5"
  }
 },
 "nbformat": 4,
 "nbformat_minor": 2
}
