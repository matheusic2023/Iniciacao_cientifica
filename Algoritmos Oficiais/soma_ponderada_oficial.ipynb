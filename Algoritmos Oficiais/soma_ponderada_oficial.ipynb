{
 "cells": [
  {
   "cell_type": "code",
   "execution_count": 4,
   "metadata": {},
   "outputs": [
    {
     "data": {
      "text/plain": [
       "'\\nOBS: todas as matrizes e vetores são np.array!\\nn = # de variáveis do problema\\nA = Matriz dos coeficientes das desigualdades <= de X, sem contar as restrições feitas com as funções objetivas\\nb = vetor de Ax<=b\\ncoef_func = Matriz dos coeficientes das funções objetivos\\nvetor_lambda = vetor dos lambdas\\n'"
      ]
     },
     "execution_count": 4,
     "metadata": {},
     "output_type": "execute_result"
    }
   ],
   "source": [
    "\"\"\"\n",
    "OBS: todas as matrizes e vetores são np.array!\n",
    "n = # de variáveis do problema\n",
    "A = Matriz dos coeficientes das desigualdades <= de X, sem contar as restrições feitas com as funções objetivas\n",
    "b = vetor de Ax<=b\n",
    "coef_func = Matriz dos coeficientes das funções objetivos\n",
    "vetor_lambda = vetor dos lambdas\n",
    "\"\"\""
   ]
  },
  {
   "cell_type": "code",
   "execution_count": 2,
   "metadata": {},
   "outputs": [],
   "source": [
    "from pulp import LpMaximize, LpProblem, LpStatus, lpSum, LpVariable,lpDot\n",
    "import numpy as np\n",
    "\n",
    "\n",
    "def soma_ponderada(n,A,b,C,d,coef_func,vetor_lambda):\n",
    "    model = LpProblem(name=\"large-problem\", sense=LpMaximize)\n",
    "   # Neste trabalho será tratado apenas dos casos lineares com variáveis reais\n",
    "\n",
    "    x = [LpVariable(name=f\"x{i}\", lowBound=0) for i in range(n)]\n",
    "    # Restrições <=\n",
    "    if isinstance(A, (list, np.ndarray)) and isinstance(b, (list, np.ndarray)):\n",
    "        rest1 = A.shape[0]\n",
    "    \n",
    "    # Criamos Uma lista que contêm todas as variáveis do problema.\n",
    "\n",
    "        for i in range(rest1):\n",
    "            model += (lpDot(A[i], x) <= b[i], f\"restrição {i}\")\n",
    "    else:\n",
    "        pass\n",
    "    if isinstance(A, (list, np.ndarray)) and isinstance(b, (list, np.ndarray)):\n",
    "        rest2 = C.shape[0]\n",
    "        \n",
    "        # Restrições >=\n",
    "        \n",
    "        for i in range(rest2):\n",
    "            model += (lpDot(C[i], x) >= d[i], f\"restrição {i + rest1}\")\n",
    "    else:\n",
    "        pass\n",
    "\n",
    "    # Funções Objetivas\n",
    "    \n",
    "\n",
    "    funcao_principal =  np.transpose(vetor_lambda)@coef_func@x\n",
    "    model += funcao_principal\n",
    "    f_values = coef_func@x\n",
    "\n",
    "\n",
    "    \n",
    "\n",
    "    status = model.solve()\n",
    "    sol = np.zeros(n)\n",
    "    for i in range(n):\n",
    "        sol[i] = x[i].value()\n",
    "    print(f\"Solução: {sol}\")\n",
    "    sol = np.transpose(sol)\n",
    "    value_func_aux = np.zeros(coef_func.shape[0])\n",
    "    for i in range(coef_func.shape[0]):\n",
    "     value_func_aux[i] = np.dot(sol,coef_func[i, :])\n",
    "    for i in range(coef_func.shape[0]):\n",
    "        print(f\"O valor de f{i+2} é: {value_func_aux[i]}\")\n",
    "\n",
    "\n",
    "\n",
    "    print(f\"status: {model.status}, {LpStatus[model.status]}\")\n",
    "    #print(f\"Objetivo: {model.objective.value()}\")\n",
    "    print(model)"
   ]
  },
  {
   "cell_type": "code",
   "execution_count": 3,
   "metadata": {},
   "outputs": [
    {
     "name": "stdout",
     "output_type": "stream",
     "text": [
      "Solução: [3. 0.]\n",
      "O valor de f2 é: 3.0\n",
      "O valor de f3 é: 6.0\n",
      "status: 1, Optimal\n",
      "large-problem:\n",
      "MAXIMIZE\n",
      "5*x0 + 3*x1 + 0\n",
      "SUBJECT TO\n",
      "restrição_0: x0 + 3 x1 <= 3\n",
      "\n",
      "restrição_1: x0 + x1 >= 1\n",
      "\n",
      "VARIABLES\n",
      "x0 Continuous\n",
      "x1 Continuous\n",
      "\n"
     ]
    }
   ],
   "source": [
    "# Exemplo 2x2\n",
    "n=2\n",
    "A = np.array([[1,3]])\n",
    "b = np.array([3])\n",
    "C = np.array([[1,1]])\n",
    "d=np.array([1])\n",
    "coef_func=np.array([[1,1],[2,1]])\n",
    "vetor_lambda = np.array([1,2])\n",
    "\n",
    "soma_ponderada(n,A,b,C,d,coef_func,vetor_lambda)"
   ]
  }
 ],
 "metadata": {
  "kernelspec": {
   "display_name": "Python 3",
   "language": "python",
   "name": "python3"
  },
  "language_info": {
   "codemirror_mode": {
    "name": "ipython",
    "version": 3
   },
   "file_extension": ".py",
   "mimetype": "text/x-python",
   "name": "python",
   "nbconvert_exporter": "python",
   "pygments_lexer": "ipython3",
   "version": "3.8.5"
  }
 },
 "nbformat": 4,
 "nbformat_minor": 2
}
