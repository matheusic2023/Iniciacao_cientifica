{
 "cells": [
  {
   "cell_type": "code",
   "execution_count": 85,
   "metadata": {},
   "outputs": [],
   "source": [
    "import numpy as np\n",
    "import pandas as pd\n",
    "from pulp import LpMaximize, LpProblem, LpStatus, lpSum, LpVariable,lpDot\n"
   ]
  },
  {
   "cell_type": "code",
   "execution_count": 56,
   "metadata": {},
   "outputs": [
    {
     "data": {
      "text/html": [
       "<div>\n",
       "<style scoped>\n",
       "    .dataframe tbody tr th:only-of-type {\n",
       "        vertical-align: middle;\n",
       "    }\n",
       "\n",
       "    .dataframe tbody tr th {\n",
       "        vertical-align: top;\n",
       "    }\n",
       "\n",
       "    .dataframe thead th {\n",
       "        text-align: right;\n",
       "    }\n",
       "</style>\n",
       "<table border=\"1\" class=\"dataframe\">\n",
       "  <thead>\n",
       "    <tr style=\"text-align: right;\">\n",
       "      <th></th>\n",
       "      <th>Unnamed: 0</th>\n",
       "      <th>X1</th>\n",
       "      <th>X2</th>\n",
       "      <th>X3</th>\n",
       "      <th>X4</th>\n",
       "      <th>X5</th>\n",
       "      <th>X6</th>\n",
       "      <th>X7</th>\n",
       "      <th>X8</th>\n",
       "      <th>X9</th>\n",
       "      <th>X10</th>\n",
       "    </tr>\n",
       "  </thead>\n",
       "  <tbody>\n",
       "    <tr>\n",
       "      <th>0</th>\n",
       "      <td>1</td>\n",
       "      <td>46</td>\n",
       "      <td>49</td>\n",
       "      <td>9</td>\n",
       "      <td>17</td>\n",
       "      <td>24</td>\n",
       "      <td>49</td>\n",
       "      <td>38</td>\n",
       "      <td>31</td>\n",
       "      <td>34</td>\n",
       "      <td>0</td>\n",
       "    </tr>\n",
       "    <tr>\n",
       "      <th>1</th>\n",
       "      <td>2</td>\n",
       "      <td>18</td>\n",
       "      <td>24</td>\n",
       "      <td>28</td>\n",
       "      <td>2</td>\n",
       "      <td>21</td>\n",
       "      <td>36</td>\n",
       "      <td>30</td>\n",
       "      <td>38</td>\n",
       "      <td>9</td>\n",
       "      <td>0</td>\n",
       "    </tr>\n",
       "    <tr>\n",
       "      <th>2</th>\n",
       "      <td>3</td>\n",
       "      <td>27</td>\n",
       "      <td>21</td>\n",
       "      <td>30</td>\n",
       "      <td>40</td>\n",
       "      <td>47</td>\n",
       "      <td>25</td>\n",
       "      <td>17</td>\n",
       "      <td>10</td>\n",
       "      <td>39</td>\n",
       "      <td>0</td>\n",
       "    </tr>\n",
       "    <tr>\n",
       "      <th>3</th>\n",
       "      <td>4</td>\n",
       "      <td>28</td>\n",
       "      <td>20</td>\n",
       "      <td>29</td>\n",
       "      <td>20</td>\n",
       "      <td>48</td>\n",
       "      <td>30</td>\n",
       "      <td>32</td>\n",
       "      <td>1</td>\n",
       "      <td>36</td>\n",
       "      <td>32</td>\n",
       "    </tr>\n",
       "    <tr>\n",
       "      <th>4</th>\n",
       "      <td>5</td>\n",
       "      <td>5</td>\n",
       "      <td>33</td>\n",
       "      <td>3</td>\n",
       "      <td>44</td>\n",
       "      <td>36</td>\n",
       "      <td>24</td>\n",
       "      <td>50</td>\n",
       "      <td>16</td>\n",
       "      <td>4</td>\n",
       "      <td>45</td>\n",
       "    </tr>\n",
       "    <tr>\n",
       "      <th>5</th>\n",
       "      <td>6</td>\n",
       "      <td>5</td>\n",
       "      <td>6</td>\n",
       "      <td>21</td>\n",
       "      <td>8</td>\n",
       "      <td>16</td>\n",
       "      <td>39</td>\n",
       "      <td>29</td>\n",
       "      <td>7</td>\n",
       "      <td>16</td>\n",
       "      <td>17</td>\n",
       "    </tr>\n",
       "    <tr>\n",
       "      <th>6</th>\n",
       "      <td>7</td>\n",
       "      <td>31</td>\n",
       "      <td>22</td>\n",
       "      <td>6</td>\n",
       "      <td>42</td>\n",
       "      <td>20</td>\n",
       "      <td>38</td>\n",
       "      <td>50</td>\n",
       "      <td>40</td>\n",
       "      <td>32</td>\n",
       "      <td>42</td>\n",
       "    </tr>\n",
       "    <tr>\n",
       "      <th>7</th>\n",
       "      <td>8</td>\n",
       "      <td>1</td>\n",
       "      <td>28</td>\n",
       "      <td>37</td>\n",
       "      <td>19</td>\n",
       "      <td>37</td>\n",
       "      <td>19</td>\n",
       "      <td>23</td>\n",
       "      <td>6</td>\n",
       "      <td>34</td>\n",
       "      <td>31</td>\n",
       "    </tr>\n",
       "    <tr>\n",
       "      <th>8</th>\n",
       "      <td>9</td>\n",
       "      <td>29</td>\n",
       "      <td>48</td>\n",
       "      <td>6</td>\n",
       "      <td>43</td>\n",
       "      <td>47</td>\n",
       "      <td>9</td>\n",
       "      <td>42</td>\n",
       "      <td>28</td>\n",
       "      <td>26</td>\n",
       "      <td>21</td>\n",
       "    </tr>\n",
       "    <tr>\n",
       "      <th>9</th>\n",
       "      <td>10</td>\n",
       "      <td>20</td>\n",
       "      <td>9</td>\n",
       "      <td>18</td>\n",
       "      <td>35</td>\n",
       "      <td>37</td>\n",
       "      <td>13</td>\n",
       "      <td>34</td>\n",
       "      <td>4</td>\n",
       "      <td>44</td>\n",
       "      <td>16</td>\n",
       "    </tr>\n",
       "  </tbody>\n",
       "</table>\n",
       "</div>"
      ],
      "text/plain": [
       "   Unnamed: 0  X1  X2  X3  X4  X5  X6  X7  X8  X9  X10\n",
       "0           1  46  49   9  17  24  49  38  31  34    0\n",
       "1           2  18  24  28   2  21  36  30  38   9    0\n",
       "2           3  27  21  30  40  47  25  17  10  39    0\n",
       "3           4  28  20  29  20  48  30  32   1  36   32\n",
       "4           5   5  33   3  44  36  24  50  16   4   45\n",
       "5           6   5   6  21   8  16  39  29   7  16   17\n",
       "6           7  31  22   6  42  20  38  50  40  32   42\n",
       "7           8   1  28  37  19  37  19  23   6  34   31\n",
       "8           9  29  48   6  43  47   9  42  28  26   21\n",
       "9          10  20   9  18  35  37  13  34   4  44   16"
      ]
     },
     "execution_count": 56,
     "metadata": {},
     "output_type": "execute_result"
    }
   ],
   "source": [
    "data = pd.read_csv(\"matriz.csv\")\n",
    "data"
   ]
  },
  {
   "cell_type": "code",
   "execution_count": 57,
   "metadata": {},
   "outputs": [
    {
     "data": {
      "text/plain": [
       "0     1\n",
       "1     2\n",
       "2     3\n",
       "3     4\n",
       "4     5\n",
       "5     6\n",
       "6     7\n",
       "7     8\n",
       "8     9\n",
       "9    10\n",
       "Name: Unnamed: 0, dtype: int64"
      ]
     },
     "execution_count": 57,
     "metadata": {},
     "output_type": "execute_result"
    }
   ],
   "source": [
    "data.iloc[:,[1,2,3]] # .iloc acessa as posições do df\n",
    "data.iloc[:,1:3]\n",
    "data.iloc[:,:]\n",
    "\n",
    "new_df = data.iloc[:,1:]\n",
    " \n",
    "data.iloc[:,0]"
   ]
  },
  {
   "cell_type": "code",
   "execution_count": 75,
   "metadata": {},
   "outputs": [
    {
     "name": "stdout",
     "output_type": "stream",
     "text": [
      "   X1  X2  X3  X4  X5  X6  X7  X8  X9  X10\n",
      "0  46  49   9  17  24  49  38  31  34    0\n",
      "1  18  24  28   2  21  36  30  38   9    0\n",
      "2  27  21  30  40  47  25  17  10  39    0\n",
      "3  28  20  29  20  48  30  32   1  36   32\n",
      "4   5  33   3  44  36  24  50  16   4   45\n",
      "5   5   6  21   8  16  39  29   7  16   17\n",
      "6  31  22   6  42  20  38  50  40  32   42\n",
      "7   1  28  37  19  37  19  23   6  34   31\n",
      "8  29  48   6  43  47   9  42  28  26   21\n",
      "9  20   9  18  35  37  13  34   4  44   16\n"
     ]
    }
   ],
   "source": [
    "print(new_df)\n"
   ]
  },
  {
   "cell_type": "code",
   "execution_count": 105,
   "metadata": {},
   "outputs": [
    {
     "data": {
      "text/plain": [
       "numpy.ndarray"
      ]
     },
     "execution_count": 105,
     "metadata": {},
     "output_type": "execute_result"
    }
   ],
   "source": [
    "matriz = new_df.values\n",
    "matriz\n",
    "matriz[0:3,:]\n"
   ]
  },
  {
   "cell_type": "code",
   "execution_count": 60,
   "metadata": {},
   "outputs": [
    {
     "data": {
      "text/plain": [
       "' \\nEstamos considerando a ultima coluna como o valor das restrições\\n\\n\\n\\n'"
      ]
     },
     "execution_count": 60,
     "metadata": {},
     "output_type": "execute_result"
    }
   ],
   "source": [
    "\"\"\" \n",
    "Estamos considerando a ultima coluna como o valor das restrições.\n",
    "\n",
    "a função objetiva a ser otimizada no e-restrito deve ser a equação da primeira linha\n",
    "as outra p funções devem ser passadas\n",
    "\n",
    "\n",
    "\"\"\"\n"
   ]
  },
  {
   "cell_type": "code",
   "execution_count": 111,
   "metadata": {},
   "outputs": [
    {
     "name": "stdout",
     "output_type": "stream",
     "text": [
      "Solução: [ 0.          0.          0.          0.          0.13314895 -0.43998702\n",
      "  1.0002117   0.          0.18893577]\n",
      "<class 'numpy.ndarray'>\n",
      "<class 'numpy.ndarray'>\n",
      "O valor de f2 é: 18.663368159999997\n",
      "O valor de f3 é: 19.63041908\n",
      "status: -1, Infeasible\n",
      "Objetivo: 26.068071599999996\n"
     ]
    }
   ],
   "source": [
    "def e_restrito_csv_to_numpy(df,num_funcoes,epsilons):\n",
    "    \n",
    "    matriz = df.values\n",
    "    # Número de variáveis\n",
    "    n = np.shape(df)[1]-1\n",
    "    m = np.shape(df)[1]-1\n",
    "    # Número de funções (num_funcoes)\n",
    "    # matriz com as funções\n",
    "    func_principal = matriz[0,:m] \n",
    "    matriz_func = matriz[1:num_funcoes,:m]\n",
    "    # Restrições\n",
    "    restricao = matriz[num_funcoes:,n]\n",
    "    matriz_res = matriz[num_funcoes:,0:n]\n",
    "    #return(matriz_res)\n",
    "\n",
    "    model = LpProblem(name=\"large-problem\", sense=LpMaximize)\n",
    "   # Neste trabalho será tratado apenas dos casos lineares com variáveis reais\n",
    "\n",
    "    x = [LpVariable(name=f\"x{i}\", lowBound=0) for i in range(n)]\n",
    "    # Restrições <=\n",
    "    if isinstance(matriz_res, (list, np.ndarray)) and isinstance(restricao, (list, np.ndarray)):\n",
    "        rest1 = matriz_res.shape[0]\n",
    "    \n",
    "    # Criamos Uma lista que contêm todas as variáveis do problema.\n",
    "\n",
    "        for i in range(rest1):\n",
    "            model += (lpDot(matriz_res[i], x) == restricao[i], f\"restrição {i}\")\n",
    "    else:\n",
    "        pass\n",
    "    \n",
    "\n",
    "    funcao_principal = lpDot(func_principal,x)\n",
    "    model += funcao_principal\n",
    "\n",
    "\n",
    "    for i in range(num_funcoes-1):\n",
    "        model += (lpDot(matriz_func[i], x) == epsilons[i], f\"restrição {rest1+i}\")\n",
    "\n",
    "\n",
    "    status = model.solve()\n",
    "    sol = np.zeros(n)\n",
    "    for i in range(n):\n",
    "        sol[i] = x[i].value()\n",
    "    print(f\"Solução: {sol}\")\n",
    "    print(type(sol))\n",
    "    print(type(matriz_func))\n",
    "    sol = np.transpose(sol)\n",
    "    value_func_aux = np.zeros(num_funcoes-1)\n",
    "    \n",
    "    for i in range(num_funcoes-1):\n",
    "     value_func_aux[i] = np.dot(matriz_func[i],sol)\n",
    "    for i in range(num_funcoes-1):\n",
    "        print(f\"O valor de f{i+2} é: {value_func_aux[i]}\")\n",
    "    print(f\"status: {model.status}, {LpStatus[model.status]}\")\n",
    "    print(f\"Objetivo: {model.objective.value()}\")\n",
    "\n",
    "    \n",
    "\n",
    "e_restrito_csv_to_numpy(new_df,3,np.array([2,3]))\n",
    "\n",
    "\n",
    "\n",
    "\n",
    "\n",
    "\n",
    "\n",
    "\n",
    "\n",
    "\n",
    "\n",
    "\n",
    "\n"
   ]
  },
  {
   "cell_type": "code",
   "execution_count": 114,
   "metadata": {},
   "outputs": [
    {
     "name": "stdout",
     "output_type": "stream",
     "text": [
      "Arquivo 'coeficientes.csv' criado com sucesso.\n"
     ]
    }
   ],
   "source": [
    "\n",
    "\n",
    "# Coeficientes fornecidos\n",
    "coeficientes = [\n",
    "    [1, 1, 0, 0, 0, 0],\n",
    "    [1, -1, 0, 0, -1, 0],\n",
    "    [2, 1, 1, 0, 0, 100],\n",
    "    [1, 2, 0, -1, 0, 10]\n",
    "]\n",
    "\n",
    "# Escrevendo os coeficientes em um DataFrame do Pandas\n",
    "df = pd.DataFrame(coeficientes, columns=['X1', 'X2', 'X3', 'X4', 'X5', 'X6'])\n",
    "\n",
    "# Escrevendo o DataFrame em um arquivo CSV\n",
    "df.to_csv('coeficientes.csv', index=False)\n",
    "\n",
    "print(\"Arquivo 'coeficientes.csv' criado com sucesso.\")"
   ]
  },
  {
   "cell_type": "code",
   "execution_count": 116,
   "metadata": {},
   "outputs": [
    {
     "name": "stdout",
     "output_type": "stream",
     "text": [
      "Solução: [50.  0.  0. 40.  0.]\n",
      "<class 'numpy.ndarray'>\n",
      "<class 'numpy.ndarray'>\n",
      "O valor de f2 é: 50.0\n",
      "status: 1, Optimal\n",
      "Objetivo: 50.0\n"
     ]
    }
   ],
   "source": [
    "data2= pd.read_csv(\"coeficientes.csv\")\n",
    "e_restrito_csv_to_numpy(data2,2,np.array([50]))\n",
    "\n"
   ]
  }
 ],
 "metadata": {
  "kernelspec": {
   "display_name": "Python 3",
   "language": "python",
   "name": "python3"
  },
  "language_info": {
   "codemirror_mode": {
    "name": "ipython",
    "version": 3
   },
   "file_extension": ".py",
   "mimetype": "text/x-python",
   "name": "python",
   "nbconvert_exporter": "python",
   "pygments_lexer": "ipython3",
   "version": "3.8.5"
  }
 },
 "nbformat": 4,
 "nbformat_minor": 2
}
