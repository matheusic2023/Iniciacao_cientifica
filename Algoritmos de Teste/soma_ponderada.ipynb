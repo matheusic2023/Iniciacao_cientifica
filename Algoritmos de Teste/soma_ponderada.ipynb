{
 "cells": [
  {
   "cell_type": "code",
   "execution_count": 2,
   "metadata": {},
   "outputs": [],
   "source": [
    "from pulp import LpMaximize, LpProblem, LpStatus, lpSum, LpVariable,lpDot\n",
    "import numpy as np\n",
    "\n",
    "\n",
    "def soma_ponderada(n,A,b,C,d,coef_func,vetor_lambda):\n",
    "    model = LpProblem(name=\"large-problem\", sense=LpMaximize)\n",
    "   # Neste trabalho será tratado apenas dos casos lineares com variáveis reais\n",
    "\n",
    "    x = [LpVariable(name=f\"x{i}\", lowBound=0) for i in range(n)]\n",
    "    # Restrições <=\n",
    "    if isinstance(A, (list, np.ndarray)) and isinstance(b, (list, np.ndarray)):\n",
    "        rest1 = A.shape[0]\n",
    "    \n",
    "    # Criamos Uma lista que contêm todas as variáveis do problema.\n",
    "\n",
    "        for i in range(rest1):\n",
    "            model += (lpDot(A[i], x) <= b[i], f\"restrição {i}\")\n",
    "    else:\n",
    "        pass\n",
    "    if isinstance(A, (list, np.ndarray)) and isinstance(b, (list, np.ndarray)):\n",
    "        rest2 = C.shape[0]\n",
    "        \n",
    "        # Restrições >=\n",
    "        \n",
    "        for i in range(rest2):\n",
    "            model += (lpDot(C[i], x) >= d[i], f\"restrição {i + rest1}\")\n",
    "    else:\n",
    "        pass\n",
    "\n",
    "    # Funções Objetivas\n",
    "    \n",
    "\n",
    "    funcao_principal =  np.transpose(vetor_lambda)@coef_func@x\n",
    "    model += funcao_principal\n",
    "    f_values = coef_func@x\n",
    "\n",
    "\n",
    "    \n",
    "\n",
    "    status = model.solve()\n",
    "    sol = np.zeros(n)\n",
    "    for i in range(n):\n",
    "        sol[i] = x[i].value()\n",
    "    print(f\"Solução: {sol}\")\n",
    "    sol = np.transpose(sol)\n",
    "    value_func_aux = np.zeros(coef_func.shape[0])\n",
    "    for i in range(coef_func.shape[0]):\n",
    "     value_func_aux[i] = np.dot(sol,coef_func[i, :])\n",
    "    for i in range(coef_func.shape[0]):\n",
    "        print(f\"O valor de f{i+2} é: {value_func_aux[i]}\")\n",
    "\n",
    "\n",
    "\n",
    "    print(f\"status: {model.status}, {LpStatus[model.status]}\")\n",
    "    #print(f\"Objetivo: {model.objective.value()}\")\n",
    "   # print(model)"
   ]
  },
  {
   "cell_type": "code",
   "execution_count": 20,
   "metadata": {},
   "outputs": [
    {
     "name": "stdout",
     "output_type": "stream",
     "text": [
      "Solução: [3. 0.]\n",
      "O valor de f2 é: 3.0\n",
      "O valor de f3 é: 6.0\n",
      "status: 1, Optimal\n",
      "Objetivo: 15.0\n",
      "large-problem:\n",
      "MAXIMIZE\n",
      "5*x0 + 3*x1 + 0\n",
      "SUBJECT TO\n",
      "restrição_0: x0 + 3 x1 <= 3\n",
      "\n",
      "restrição_1: x0 + x1 >= 1\n",
      "\n",
      "VARIABLES\n",
      "x0 Continuous\n",
      "x1 Continuous\n",
      "\n"
     ]
    }
   ],
   "source": [
    "n=2\n",
    "A = np.array([[1,3]])\n",
    "b = np.array([3])\n",
    "C = np.array([[1,1]])\n",
    "d=np.array([1])\n",
    "coef_func=np.array([[1,1],[2,1]])\n",
    "vetor_lambda = np.array([1,2])\n",
    "\n",
    "soma_ponderada(n,A,b,C,d,coef_func,vetor_lambda)"
   ]
  },
  {
   "cell_type": "code",
   "execution_count": 73,
   "metadata": {},
   "outputs": [
    {
     "data": {
      "text/plain": [
       "\"for i in range(36):\\n    print(f'Os valores das funções, com lb1 = {i+1} e lb2 = 1 é: ')\\n    soma_ponderada(n,A,b,C,d,coef_func,np.array([i+1,1]))\""
      ]
     },
     "execution_count": 73,
     "metadata": {},
     "output_type": "execute_result"
    }
   ],
   "source": [
    "\"\"\"\n",
    "n=6\n",
    "A = np.array([[216,164,456,516,176,670],[28.1,13.6,0,0,5,0],[1.6,8.5,0,0,0,0],[166.1,167.1,205.1,209.1,236.1,228.1],[2.05,2.1,8.35,11.95,8.2,13.8]])\n",
    "d=np.array([1800,100,25,1300,22])\n",
    "C = A\n",
    "#d=np.array([100,22,1500,25,1800])\n",
    "b = np.array([2500,150,96,2300,29])\n",
    "coef_func=np.array([[-0.8,-0.9,-2.7,-4,-6.5,-2.8],[2.5,4.8,32,32.4,14.6,13.8]])\n",
    "\"\"\"\n",
    "n=6\n",
    "A = np.array([[216,164,456,516,176,670],[28,14,0,0,5,0],[2,8,0,0,0,0],[166,167,205,209,236,228],[2,2,8,12,8,13]])\n",
    "d=np.array([1800,100,25,1300,22])\n",
    "C = A\n",
    "#d=np.array([100,22,1500,25,1800])\n",
    "b = np.array([2500,150,36,2300,29])\n",
    "coef_func=np.array([[-0.8,-0.9,-2.7,-4,-6.5,-2.8],[3,5,32,32,15,14]])\n",
    "#\n",
    "\"\"\"for i in range(36):\n",
    "    print(f'Os valores das funções, com lb1 = {i+1} e lb2 = 1 é: ')\n",
    "    soma_ponderada(n,A,b,C,d,coef_func,np.array([i+1,1]))\"\"\""
   ]
  },
  {
   "cell_type": "code",
   "execution_count": 18,
   "metadata": {},
   "outputs": [
    {
     "data": {
      "text/plain": [
       "2"
      ]
     },
     "execution_count": 18,
     "metadata": {},
     "output_type": "execute_result"
    }
   ],
   "source": [
    "aaa = np.array([[1,2],[3,4],[5,6]])\n",
    "aaa.shape[1]"
   ]
  },
  {
   "cell_type": "code",
   "execution_count": 69,
   "metadata": {},
   "outputs": [
    {
     "data": {
      "text/plain": [
       "(array([ 4.,  0., 96., 76., 70.,  4.]), 1)"
      ]
     },
     "execution_count": 69,
     "metadata": {},
     "output_type": "execute_result"
    }
   ],
   "source": [
    "from pulp import LpMaximize, LpProblem, LpStatus, LpVariable, lpDot\n",
    "import numpy as np\n",
    "\n",
    "def soma_ponderada(n, A=0, b=0, C=0, d=0, E=0, e=0, coef_func=0, vetor_lambda=0):\n",
    "    # Definindo o problema de maximização\n",
    "    model = LpProblem(name=\"multiobjective-weighted-sum\", sense=LpMaximize)\n",
    "\n",
    "    # Variáveis de decisão\n",
    "    x = [LpVariable(name=f\"x{i}\", lowBound=0) for i in range(n)]\n",
    "\n",
    "    # Adicionando restrições <=\n",
    "    if isinstance(A, (list, np.ndarray)) and isinstance(b, (list, np.ndarray)):\n",
    "        for i in range(len(A)):\n",
    "            model += (lpDot(A[i], x) <= b[i], f\"restrição_<=_{i}\")\n",
    "\n",
    "    # Adicionando restrições >=\n",
    "    if isinstance(C, (list, np.ndarray)) and isinstance(d, (list, np.ndarray)):\n",
    "        for i in range(len(C)):\n",
    "            model += (lpDot(C[i], x) >= d[i], f\"restrição_>=_{i}\")\n",
    "\n",
    "    # Adicionando restrições ==\n",
    "    if isinstance(E, (list, np.ndarray)) and isinstance(e, (list, np.ndarray)):\n",
    "        for i in range(len(E)):\n",
    "            model += (lpDot(E[i], x) == e[i], f\"restrição_==_{i}\")\n",
    "\n",
    "    # Função objetivo ponderada\n",
    "    funcao_principal = lpDot(np.transpose(vetor_lambda) @ coef_func, x)\n",
    "    model += funcao_principal\n",
    "\n",
    "    # Resolvendo o problema\n",
    "    status = model.solve()\n",
    "\n",
    "    # Extraindo e exibindo a solução\n",
    "    sol = np.array([x[i].varValue for i in range(n)])\n",
    "    #print(f\"Solução: {sol}\")\n",
    "\n",
    "    # Calculando os valores das funções objetivo\n",
    "    value_func_aux = coef_func @ sol\n",
    "    #for i in range(coef_func.shape[0]):\n",
    "    #   print(f\"O valor de f{i+1} é: {value_func_aux[i]}\")\n",
    "\n",
    "    #print(f\"Status: {LpStatus[model.status]}\")\n",
    "    return sol,status\n",
    "\n",
    "# Exemplo de uso\n",
    "n = 6\n",
    "A = np.array([\n",
    "    [1, 1, 1, 0, 0, 0],  # x1A + x1B + x1C <= 100\n",
    "    [0, 0, 0, 1, 1, 1]   # x2A + x2B + x2C <= 150\n",
    "])\n",
    "b = np.array([100, 150])\n",
    "\n",
    "C = np.array([\n",
    "    [1, 0, 0, 1, 0, 0],  # x1A + x2A >= 80\n",
    "    [0, 1, 0, 0, 1, 0],  # x1B + x2B >= 70\n",
    "    [0, 0, 1, 0, 0, 1]   # x1C + x2C >= 100\n",
    "])\n",
    "d = np.array([80, 70, 100])\n",
    "\n",
    "coef_func = np.array([\n",
    "    [2, 4, 5, 3, 1, 2],  # Coeficientes de z1\n",
    "    [9, 4, 1, 2, 5, 8]   # Coeficientes de z2\n",
    "])\n",
    "vetor_lambda = np.array([0.5, 0.5])\n",
    "\n",
    "# Executando o exemplo\n",
    "\n",
    "soma_ponderada(n, A, b, C, d, E, e, coef_func, vetor_lambda)\n"
   ]
  },
  {
   "cell_type": "code",
   "execution_count": 39,
   "metadata": {},
   "outputs": [
    {
     "ename": "ValueError",
     "evalue": "matmul: Input operand 1 does not have enough dimensions (has 0, gufunc core with signature (n?,k),(k,m?)->(n?,m?) requires 1)",
     "output_type": "error",
     "traceback": [
      "\u001b[1;31m---------------------------------------------------------------------------\u001b[0m",
      "\u001b[1;31mValueError\u001b[0m                                Traceback (most recent call last)",
      "Cell \u001b[1;32mIn[39], line 19\u001b[0m\n\u001b[0;32m     16\u001b[0m     \u001b[38;5;28;01mreturn\u001b[39;00m solutions_distinct\n\u001b[0;32m     18\u001b[0m \u001b[38;5;66;03m# Executando a varredura de lambda\u001b[39;00m\n\u001b[1;32m---> 19\u001b[0m solucoes_distintas \u001b[38;5;241m=\u001b[39m \u001b[43mvarrer_lambda\u001b[49m\u001b[43m(\u001b[49m\u001b[43m)\u001b[49m\n",
      "Cell \u001b[1;32mIn[39], line 8\u001b[0m, in \u001b[0;36mvarrer_lambda\u001b[1;34m(n, A, b, C, d, E, e, coef_func, vetor_lambda)\u001b[0m\n\u001b[0;32m      6\u001b[0m lambda2 \u001b[38;5;241m=\u001b[39m \u001b[38;5;241m1\u001b[39m \u001b[38;5;241m-\u001b[39m lambda1\n\u001b[0;32m      7\u001b[0m vetor_lambda \u001b[38;5;241m=\u001b[39m np\u001b[38;5;241m.\u001b[39marray([lambda1, lambda2])\n\u001b[1;32m----> 8\u001b[0m sol, status \u001b[38;5;241m=\u001b[39m \u001b[43msoma_ponderada\u001b[49m\u001b[43m(\u001b[49m\u001b[43mn\u001b[49m\u001b[43m,\u001b[49m\u001b[43m \u001b[49m\u001b[43mA\u001b[49m\u001b[43m,\u001b[49m\u001b[43m \u001b[49m\u001b[43mb\u001b[49m\u001b[43m,\u001b[49m\u001b[43m \u001b[49m\u001b[43mC\u001b[49m\u001b[43m,\u001b[49m\u001b[43m \u001b[49m\u001b[43md\u001b[49m\u001b[43m,\u001b[49m\u001b[43m \u001b[49m\u001b[43mE\u001b[49m\u001b[43m,\u001b[49m\u001b[43m \u001b[49m\u001b[43me\u001b[49m\u001b[43m,\u001b[49m\u001b[43m \u001b[49m\u001b[43mcoef_func\u001b[49m\u001b[43m,\u001b[49m\u001b[43m \u001b[49m\u001b[43mvetor_lambda\u001b[49m\u001b[43m)\u001b[49m\n\u001b[0;32m     10\u001b[0m \u001b[38;5;28;01mif\u001b[39;00m status \u001b[38;5;241m==\u001b[39m \u001b[38;5;124m'\u001b[39m\u001b[38;5;124mOptimal\u001b[39m\u001b[38;5;124m'\u001b[39m:\n\u001b[0;32m     11\u001b[0m     solutions\u001b[38;5;241m.\u001b[39mappend(\u001b[38;5;28mtuple\u001b[39m(np\u001b[38;5;241m.\u001b[39mround(sol, decimals\u001b[38;5;241m=\u001b[39m\u001b[38;5;241m6\u001b[39m)))  \u001b[38;5;66;03m# Armazena a solução arredondada\u001b[39;00m\n",
      "Cell \u001b[1;32mIn[29], line 27\u001b[0m, in \u001b[0;36msoma_ponderada\u001b[1;34m(n, A, b, C, d, E, e, coef_func, vetor_lambda)\u001b[0m\n\u001b[0;32m     24\u001b[0m         model \u001b[38;5;241m+\u001b[39m\u001b[38;5;241m=\u001b[39m (lpDot(E[i], x) \u001b[38;5;241m==\u001b[39m e[i], \u001b[38;5;124mf\u001b[39m\u001b[38;5;124m\"\u001b[39m\u001b[38;5;124mrestrição_==_\u001b[39m\u001b[38;5;132;01m{\u001b[39;00mi\u001b[38;5;132;01m}\u001b[39;00m\u001b[38;5;124m\"\u001b[39m)\n\u001b[0;32m     26\u001b[0m \u001b[38;5;66;03m# Função objetivo ponderada\u001b[39;00m\n\u001b[1;32m---> 27\u001b[0m funcao_principal \u001b[38;5;241m=\u001b[39m lpDot(\u001b[43mnp\u001b[49m\u001b[38;5;241;43m.\u001b[39;49m\u001b[43mtranspose\u001b[49m\u001b[43m(\u001b[49m\u001b[43mvetor_lambda\u001b[49m\u001b[43m)\u001b[49m\u001b[43m \u001b[49m\u001b[38;5;241;43m@\u001b[39;49m\u001b[43m \u001b[49m\u001b[43mcoef_func\u001b[49m, x)\n\u001b[0;32m     28\u001b[0m model \u001b[38;5;241m+\u001b[39m\u001b[38;5;241m=\u001b[39m funcao_principal\n\u001b[0;32m     30\u001b[0m \u001b[38;5;66;03m# Resolvendo o problema\u001b[39;00m\n",
      "\u001b[1;31mValueError\u001b[0m: matmul: Input operand 1 does not have enough dimensions (has 0, gufunc core with signature (n?,k),(k,m?)->(n?,m?) requires 1)"
     ]
    }
   ],
   "source": [
    "\n",
    "\n"
   ]
  },
  {
   "cell_type": "code",
   "execution_count": 75,
   "metadata": {},
   "outputs": [
    {
     "data": {
      "text/plain": [
       "(array([ 80.,  20.,   0.,   0.,  50., 100.]), 1)"
      ]
     },
     "execution_count": 75,
     "metadata": {},
     "output_type": "execute_result"
    }
   ],
   "source": [
    "n = 6\n",
    "A = np.array([\n",
    "    [1, 1, 1, 0, 0, 0],  # x1A + x1B + x1C <= 100\n",
    "    [0, 0, 0, 1, 1, 1]   # x2A + x2B + x2C <= 150\n",
    "])\n",
    "b = np.array([100, 150])\n",
    "\n",
    "C = np.array([\n",
    "    [1, 0, 0, 1, 0, 0],  # x1A + x2A >= 80\n",
    "    [0, 1, 0, 0, 1, 0],  # x1B + x2B >= 70\n",
    "    [0, 0, 1, 0, 0, 1]   # x1C + x2C >= 100\n",
    "])\n",
    "d = np.array([80, 70, 100])\n",
    "\n",
    "coef_func = np.array([\n",
    "    [2, 4, 5, 3, 1, 2],  # Coeficientes de z1\n",
    "    [9, 4, 1, 2, 5, 8]   # Coeficientes de z2\n",
    "])\n",
    "vetor_lambda = np.array([0, 1])\n",
    "soma_ponderada(n, A, b, C, d, 0, 0, coef_func, vetor_lambda)"
   ]
  },
  {
   "cell_type": "code",
   "execution_count": 76,
   "metadata": {},
   "outputs": [
    {
     "name": "stdout",
     "output_type": "stream",
     "text": [
      "Solução distinta: (0.0, 70.0, 30.0, 80.0, 0.0, 70.0)\n",
      "Solução distinta: (80.0, 0.0, 20.0, 0.0, 70.0, 80.0)\n",
      "Solução distinta: (30.0, 70.0, 0.0, 50.0, 0.0, 100.0)\n",
      "Solução distinta: (80.0, 20.0, 0.0, 0.0, 50.0, 100.0)\n"
     ]
    }
   ],
   "source": [
    "def varrer_lambda():\n",
    "    solutions = []\n",
    "    lambdas = np.linspace(0, 90, 500)  # Variação de lambda de 0 a 1 com passo 0.1\n",
    "\n",
    "    E =0 \n",
    "    e=0\n",
    "    for lambda1 in lambdas:\n",
    "        lambda2 = np.random.uniform(0, lambda1) \n",
    "        vetor_lambda = np.array([lambda1, lambda2])\n",
    "        sol, status = soma_ponderada(n, A, b, C, d, E, e, coef_func, vetor_lambda)\n",
    "\n",
    "        if status == 1:\n",
    "            solutions.append(tuple(np.round(sol, decimals=6)))  # Armazena a solução arredondada\n",
    "            #print(vetor_lambda)\n",
    "            #print(solutions)\n",
    "    # Remover duplicatas\n",
    "    solutions_distinct = list(set(solutions))\n",
    "    \n",
    "    return solutions_distinct\n",
    "\n",
    "solucoes_distintas = varrer_lambda()\n",
    "\n",
    "# Exibindo as soluções distintas\n",
    "for sol in solucoes_distintas:\n",
    "    print(f\"Solução distinta: {sol}\")"
   ]
  },
  {
   "cell_type": "code",
   "execution_count": null,
   "metadata": {},
   "outputs": [],
   "source": [
    "space"
   ]
  }
 ],
 "metadata": {
  "kernelspec": {
   "display_name": "Python 3",
   "language": "python",
   "name": "python3"
  },
  "language_info": {
   "codemirror_mode": {
    "name": "ipython",
    "version": 3
   },
   "file_extension": ".py",
   "mimetype": "text/x-python",
   "name": "python",
   "nbconvert_exporter": "python",
   "pygments_lexer": "ipython3",
   "version": "3.8.5"
  }
 },
 "nbformat": 4,
 "nbformat_minor": 2
}
