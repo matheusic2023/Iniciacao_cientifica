{
 "cells": [
  {
   "cell_type": "code",
   "execution_count": null,
   "metadata": {},
   "outputs": [],
   "source": [
    "from pulp import LpMaximize, LpProblem, LpStatus, lpSum, LpVariable,lpDot\n",
    "import numpy as np\n",
    "# Modelo de Maximização\n",
    "\"\"\"\n",
    "OBS: todas as matrizes e vetores são np.array!\n",
    "n = # de variáveis do problema\n",
    "A = Matriz dos coeficientes das desigualdades <= de X, sem contar as restrições feitas com as funções objetivas\n",
    "b = vetor de Ax<=b\n",
    "coeficientes_fun_pri = Matriz de Coeficientes da função objetiva a ser otimizada\n",
    "funcao_principal = Função a ser otimizada\n",
    "num_funcao_restricao = numero de Funções que irão se tornar restrições\n",
    "matriz_coeficientes_f_aux = Coeficientes de tais funções\n",
    "epsilons = vetor dos epsilons\n",
    "\"\"\"\n",
    "\n",
    "def e_restrito(n,A,b,coeficientes_fun_pri,num_funcao_restricao,matriz_coeficientes_f_aux,epsilons):\n",
    "    model = LpProblem(name=\"large-problem\", sense=LpMaximize)\n",
    "\n",
    "    # Tamanho do Problema\n",
    "    #n  #int(input(\"Informe a dimensão do problema: \"))\n",
    "\n",
    "    # Neste trabalho será tratado apenas dos casos lineares com variáveis reais\n",
    "\n",
    "    x = [LpVariable(name=f\"x{i}\", lowBound=0) for i in range(n)]\n",
    "    rest1 = A.shape[0]\n",
    "    # Criamos Uma lista que contêm todas as variáveis do problema.\n",
    "    #A \n",
    "    #b\n",
    "    for i in range(rest1):\n",
    "        model += (lpDot(A[i], x) <= b[i], f\"restrição {i}\")\n",
    "\n",
    "    # Funções Objetivas\n",
    "    #coeficientes_fun_pri \n",
    "    funcao_principal = lpDot(coeficientes_fun_pri,x)\n",
    "    model += funcao_principal\n",
    "    #num_funcao_restricao  \n",
    "    #matriz_coeficientes_f_aux \n",
    "    #epsilons \n",
    "\n",
    "    for i in range(num_funcao_restricao):\n",
    "        model += (lpDot(matriz_coeficientes_f_aux[i], x) >= epsilons[i], f\"restrição {rest1+i}\")\n",
    "\n",
    "    #print(model)\n",
    "\n",
    "    status = model.solve()\n",
    "    sol = np.zeros(n)\n",
    "    for i in range(n):\n",
    "        sol[i] = x[i].value()\n",
    "    print(f\"Solução: {sol}\")\n",
    "    sol = np.transpose(sol)\n",
    "    value_func_aux = np.zeros(num_funcao_restricao)\n",
    "    \n",
    "    for i in range(num_funcao_restricao):\n",
    "     value_func_aux[i] = np.dot(matriz_coeficientes_f_aux,sol)\n",
    "    for i in range(num_funcao_restricao):\n",
    "        print(f\"O valor de f{i+1} é: {value_func_aux[i]}\")\n",
    "    print(f\"status: {model.status}, {LpStatus[model.status]}\")\n",
    "    print(f\"objective: {model.objective.value()}\")"
   ]
  },
  {
   "cell_type": "code",
   "execution_count": 3,
   "metadata": {},
   "outputs": [
    {
     "name": "stdout",
     "output_type": "stream",
     "text": [
      "Status: Optimal\n",
      "Valor de x = 2.0\n",
      "Valor de y = 2.0\n",
      "Valor da função objetivo Z = 10.0\n"
     ]
    }
   ],
   "source": [
    "import pulp\n",
    "\n",
    "# Criação do problema de maximização\n",
    "lp_problem = pulp.LpProblem(\"Exemplo_PL\", pulp.LpMaximize)\n",
    "\n",
    "# Definição das variáveis\n",
    "x = pulp.LpVariable(\"x\", lowBound=0,cat='Float')  # x >= 0\n",
    "y = pulp.LpVariable(\"y\", lowBound=0,cat='Float')  # y >= 0\n",
    "\n",
    "# Adição da função objetivo\n",
    "lp_problem += 2*(x+y) +1*y, \"Z\"\n",
    "\n",
    "# Adição das restrições\n",
    "lp_problem +=  x + 2*y <= 6, \"Restrição_1\"\n",
    "lp_problem += x <= 2, \"Restrição_2\"\n",
    "\n",
    "# Resolução do problema\n",
    "lp_problem.solve()\n",
    "\n",
    "# Exibição dos resultados\n",
    "print(\"Status:\", pulp.LpStatus[lp_problem.status])\n",
    "print(\"Valor de x =\", pulp.value(x))\n",
    "print(\"Valor de y =\", pulp.value(y))\n",
    "print(\"Valor da função objetivo Z =\", pulp.value(lp_problem.objective))"
   ]
  },
  {
   "cell_type": "code",
   "execution_count": 6,
   "metadata": {},
   "outputs": [
    {
     "name": "stdout",
     "output_type": "stream",
     "text": [
      "Status: Optimal\n",
      "Valor de x = 1.3333333\n",
      "Valor de y = 4.6666667\n",
      "Valor da função objetivo Z = 3.3333334000000003\n"
     ]
    }
   ],
   "source": [
    "import pulp\n",
    "\n",
    "# Criação do problema de maximização\n",
    "lp_problem = pulp.LpProblem(\"Exemplo_PL\", pulp.LpMaximize)\n",
    "\n",
    "# Definição das variáveis\n",
    "x = pulp.LpVariable(\"x\", lowBound=0,cat='Float')  # x >= 0\n",
    "y = pulp.LpVariable(\"y\", lowBound=0,cat='Float')  # y >= 0\n",
    "\n",
    "# Adição da função objetivo\n",
    "lp_problem += y-x, \"Z\"\n",
    "\n",
    "# Adição das restrições\n",
    "lp_problem +=  x + 4*y <= 20, \"Restrição_1\"\n",
    "lp_problem += 2*x +y <= 12, \"Restrição_2\"\n",
    "lp_problem += x <= 5, \"Restrição_3\"\n",
    "lp_problem += x +y >= 6, \"Restrição_4\"\n",
    "\n",
    "# Resolução do problema\n",
    "lp_problem.solve()\n",
    "\n",
    "# Exibição dos resultados\n",
    "print(\"Status:\", pulp.LpStatus[lp_problem.status])\n",
    "print(\"Valor de x =\", pulp.value(x))\n",
    "print(\"Valor de y =\", pulp.value(y))\n",
    "print(\"Valor da função objetivo Z =\", pulp.value(lp_problem.objective))"
   ]
  },
  {
   "cell_type": "code",
   "execution_count": 69,
   "metadata": {},
   "outputs": [
    {
     "name": "stdout",
     "output_type": "stream",
     "text": [
      "Status: Optimal\n",
      "Valor de x = 4.0\n",
      "Valor de y = 4.0\n",
      "Valor da função objetivo Z = 8.0\n"
     ]
    }
   ],
   "source": [
    "import pulp\n",
    "\n",
    "# Criação do problema de maximização\n",
    "lp_problem = pulp.LpProblem(\"Exemplo_PL\", pulp.LpMaximize)\n",
    "\n",
    "# Definição das variáveis\n",
    "x = pulp.LpVariable(\"x\", lowBound=0,cat='Float')  # x >= 0\n",
    "y = pulp.LpVariable(\"y\", lowBound=0,cat='Float')  # y >= 0\n",
    "\n",
    "# Adição da função objetivo\n",
    "lp_problem +=  x + y, \"Z\"\n",
    "\n",
    "# Adição das restrições\n",
    "lp_problem +=  x + 4*y <= 20, \"Restrição_1\"\n",
    "lp_problem += 2*x +y <= 12, \"Restrição_2\"\n",
    "lp_problem += x<= 5, \"Restrição_3\"\n",
    "lp_problem += y-x >= 0, \"Restrição_4\"\n",
    "\n",
    "# Resolução do problema\n",
    "lp_problem.solve()\n",
    "\n",
    "# Exibição dos resultados\n",
    "print(\"Status:\", pulp.LpStatus[lp_problem.status])\n",
    "print(\"Valor de x =\", pulp.value(x))\n",
    "print(\"Valor de y =\", pulp.value(y))\n",
    "print(\"Valor da função objetivo Z =\", pulp.value(lp_problem.objective))"
   ]
  },
  {
   "cell_type": "code",
   "execution_count": 3,
   "metadata": {},
   "outputs": [
    {
     "name": "stdout",
     "output_type": "stream",
     "text": [
      "<class 'pulp.pulp.LpVariable'>\n"
     ]
    }
   ],
   "source": [
    "print(type(x))"
   ]
  },
  {
   "cell_type": "code",
   "execution_count": 2,
   "metadata": {},
   "outputs": [
    {
     "ename": "NameError",
     "evalue": "name 'pulp' is not defined",
     "output_type": "error",
     "traceback": [
      "\u001b[1;31m---------------------------------------------------------------------------\u001b[0m",
      "\u001b[1;31mNameError\u001b[0m                                 Traceback (most recent call last)",
      "Cell \u001b[1;32mIn[2], line 2\u001b[0m\n\u001b[0;32m      1\u001b[0m \u001b[38;5;66;03m# Criação do problema de maximização\u001b[39;00m\n\u001b[1;32m----> 2\u001b[0m lp_problem \u001b[38;5;241m=\u001b[39m \u001b[43mpulp\u001b[49m\u001b[38;5;241m.\u001b[39mLpProblem(\u001b[38;5;124m\"\u001b[39m\u001b[38;5;124mExemplo_PL\u001b[39m\u001b[38;5;124m\"\u001b[39m, pulp\u001b[38;5;241m.\u001b[39mLpMaximize)\n\u001b[0;32m      4\u001b[0m \u001b[38;5;66;03m# Definição das variáveis\u001b[39;00m\n\u001b[0;32m      5\u001b[0m x \u001b[38;5;241m=\u001b[39m pulp\u001b[38;5;241m.\u001b[39mLpVariable(\u001b[38;5;124m\"\u001b[39m\u001b[38;5;124mx\u001b[39m\u001b[38;5;124m\"\u001b[39m, lowBound\u001b[38;5;241m=\u001b[39m\u001b[38;5;241m0\u001b[39m,cat\u001b[38;5;241m=\u001b[39m\u001b[38;5;124m'\u001b[39m\u001b[38;5;124mFloat\u001b[39m\u001b[38;5;124m'\u001b[39m)  \u001b[38;5;66;03m# x >= 0\u001b[39;00m\n",
      "\u001b[1;31mNameError\u001b[0m: name 'pulp' is not defined"
     ]
    }
   ],
   "source": [
    "\n",
    "# Criação do problema de maximização\n",
    "lp_problem = pulp.LpProblem(\"Exemplo_PL\", pulp.LpMaximize)\n",
    "\n",
    "# Definição das variáveis\n",
    "x = pulp.LpVariable(\"x\", lowBound=0,cat='Float')  # x >= 0\n",
    "y = pulp.LpVariable(\"y\", lowBound=0,cat='Float')  # y >= 0\n",
    "\n",
    "# Adição da função objetivo\n",
    "lp_problem += 1*(x) +5*y, \"Z\"\n",
    "\n",
    "# Adição das restrições\n",
    "lp_problem +=  x + 4*y <= 20, \"Restrição_1\"\n",
    "lp_problem += 4*x + y <= 20, \"Restrição_2\"\n",
    "\n",
    "# Resolução do problema\n",
    "lp_problem.solve()\n",
    "\n",
    "# Exibição dos resultados\n",
    "print(\"Status:\", pulp.LpStatus[lp_problem.status])\n",
    "print(\"Valor de x =\", pulp.value(x))\n",
    "print(\"Valor de y =\", pulp.value(y))\n",
    "print(\"Valor da função objetivo Z =\", pulp.value(lp_problem.objective))"
   ]
  },
  {
   "cell_type": "code",
   "execution_count": 2,
   "metadata": {},
   "outputs": [
    {
     "name": "stdout",
     "output_type": "stream",
     "text": [
      "x0: 100.0\n",
      "x1: 0.0\n",
      "x2: 0.0\n",
      "x3: 0.0\n",
      "x4: 0.0\n",
      "x5: 0.0\n",
      "x6: 0.0\n",
      "x7: 0.0\n",
      "x8: 0.0\n",
      "x9: 0.0\n",
      "x10: 0.0\n",
      "x11: 0.0\n",
      "x12: 0.0\n",
      "x13: 0.0\n",
      "x14: 0.0\n",
      "x15: 0.0\n",
      "x16: 0.0\n",
      "x17: 0.0\n",
      "x18: 0.0\n",
      "x19: 0.0\n",
      "x20: 0.0\n",
      "x21: 0.0\n",
      "x22: 0.0\n",
      "x23: 0.0\n",
      "x24: 0.0\n",
      "status: 1, Optimal\n",
      "objective: 100.0\n"
     ]
    }
   ],
   "source": [
    "from pulp import LpMaximize, LpProblem, LpStatus, lpSum, LpVariable\n",
    "\n",
    "# Crie o problema\n",
    "model = LpProblem(name=\"large-problem\", sense=LpMaximize)\n",
    "\n",
    "# Inicialize as variáveis de decisão\n",
    "x = [LpVariable(name=f\"x{i}\", lowBound=0) for i in range(25)]\n",
    "\n",
    "# Adicione as restrições ao problema\n",
    "# Esta é uma restrição de exemplo, você pode adicionar suas próprias restrições\n",
    "model += (lpSum(x[i] for i in range(25)) <= 100, \"restrição 1\")\n",
    "\n",
    "# Adicione a função objetivo ao problema\n",
    "model += lpSum(x[i] for i in range(25))\n",
    "\n",
    "# Resolva o problema\n",
    "status = model.solve()\n",
    "\n",
    "for i in range(25):\n",
    "    print(f\"{x[i].name}: {x[i].value()}\")\n",
    "\n",
    "print(f\"status: {model.status}, {LpStatus[model.status]}\")\n",
    "print(f\"objective: {model.objective.value()}\")\n"
   ]
  },
  {
   "cell_type": "code",
   "execution_count": 13,
   "metadata": {},
   "outputs": [
    {
     "data": {
      "image/png": "[encoded data removed]",
      "text/plain": [
       "<Figure size 640x480 with 1 Axes>"
      ]
     },
     "metadata": {},
     "output_type": "display_data"
    }
   ],
   "source": [
    "import matplotlib.pyplot as plt\n",
    "import numpy as np\n",
    "\n",
    "# Pontos para delimitar a região\n",
    "points = np.array([[0, 0], [0, 5], [4, 4], [5, 0]])\n",
    "\n",
    "# Coordenadas x e y dos pontos\n",
    "x = points[:, 0]\n",
    "y = points[:, 1]\n",
    "\n",
    "# Plotando a região\n",
    "plt.fill(x, y, color='lightblue', alpha=0.5)  # Preenche a área delimitada pelos pontos\n",
    "\n",
    "# Adicionando a seta representando o vetor (1,1)\n",
    "plt.arrow(0, 0, 1, 1, head_width=0.3, head_length=0.3, fc='red', ec='black')  # Define a seta\n",
    "\n",
    "# Configurações adicionais do gráfico\n",
    "plt.xlim(-1, 6)\n",
    "plt.ylim(-1, 6)\n",
    "plt.xlabel('Eixo X')\n",
    "plt.ylabel('Eixo Y')\n",
    "plt.title('Região delimitada e vetor (1,1)')\n",
    "\n",
    "# Mostra o gráfico\n",
    "plt.grid(True)\n",
    "plt.show()"
   ]
  },
  {
   "cell_type": "code",
   "execution_count": 1,
   "metadata": {},
   "outputs": [
    {
     "data": {
      "image/png": "[encoded data removed]",
      "text/plain": [
       "<Figure size 640x480 with 1 Axes>"
      ]
     },
     "metadata": {},
     "output_type": "display_data"
    }
   ],
   "source": [
    "import matplotlib.pyplot as plt\n",
    "import numpy as np\n",
    "\n",
    "# Define as desigualdades\n",
    "x = np.linspace(0, 5, 100)\n",
    "y1 = (20 - x) / 4\n",
    "y2 = 12 - 2*x\n",
    "\n",
    "# Plotagem das desigualdades\n",
    "plt.fill_between(x, 0, np.minimum(y1, y2), color='gray', alpha=0.5)\n",
    "plt.plot(x, y1, 'b', label=r'$x + 4y \\leq 20$')\n",
    "plt.plot(x, y2, 'r', label=r'$2x + y \\leq 12$')\n",
    "\n",
    "# Linha vertical pontilhada\n",
    "plt.axvline(x=5, linestyle='--', color='k')\n",
    "\n",
    "# Configurações do gráfico\n",
    "plt.xlabel(r'$x$', fontsize=14)\n",
    "plt.ylabel(r'$y$', fontsize=14)\n",
    "plt.title(r'Região Delimitada por Desigualdades', fontsize=16)\n",
    "plt.xlim(0, 5)\n",
    "plt.ylim(0, 5)\n",
    "plt.xticks(np.arange(0, 6, step=1))\n",
    "plt.yticks(np.arange(0, 6, step=1))\n",
    "plt.legend(fontsize=12)\n",
    "plt.grid(True)\n",
    "\n",
    "# Habilitando o modo LaTeX\n",
    "plt.rc('text', usetex=True)\n",
    "plt.rc('font', family='serif')\n",
    "\n",
    "# Exibir o gráfico\n",
    "plt.tight_layout()\n",
    "plt.show()\n"
   ]
  },
  {
   "cell_type": "code",
   "execution_count": 5,
   "metadata": {},
   "outputs": [
    {
     "name": "stdout",
     "output_type": "stream",
     "text": [
      "10\n",
      "<class 'int'>\n",
      "oi\n",
      "<class 'str'>\n",
      "<__main__.Produto object at 0x000001CCD063DB50>\n",
      "<class '__main__.Produto'>\n"
     ]
    }
   ],
   "source": [
    "#Estudo de Programação Orientada a Objetos - POO\n",
    "\"\"\"\n",
    "Classe: Modelo que representa o objeto do 'mundo real', de forma computacional;\n",
    "Atributo: Caracteristicas do objeto;\n",
    "Método: Comportamento do Objeto(Funções);\n",
    "Construtor: Método para criar objetos;\n",
    "Objeto: Instância da Classe.\n",
    "\"\"\"\n",
    "num =10\n",
    "name = 'oi'\n",
    "class Produto:\n",
    "    pass\n",
    "\n",
    "ps4 = Produto()\n",
    "\n",
    "print(num)\n",
    "print(type(num))\n",
    "\n",
    "print(name)\n",
    "print(type(name))\n",
    "\n",
    "print(ps4)\n",
    "print(type(ps4))\n",
    "\n",
    "# É possível ver que o numero e string são classes\n",
    "# O ps4 mostra o endereço de memória. Criamos com ele um novo tipo de dado chamado de produto.\n"
   ]
  },
  {
   "cell_type": "markdown",
   "metadata": {},
   "source": [
    "# Classes"
   ]
  },
  {
   "cell_type": "code",
   "execution_count": 6,
   "metadata": {},
   "outputs": [
    {
     "name": "stdout",
     "output_type": "stream",
     "text": [
      "<class '__main__.Lampada'>\n"
     ]
    }
   ],
   "source": [
    "\"\"\"\n",
    "Imagine que você queira montar um sistema para automatizar o controle de lâmpadas da sua casa. \n",
    "classe pode conter: \n",
    "-atributos da lampada(cor, luminosidade,...) \n",
    "-Métodos da lâmpada/comportamento no sistema (ligar e desligar)\n",
    "...\n",
    "Obs:\n",
    "-pass - quando temos um bloco ainda não implementado.\n",
    "- por convenção utilizamos o nome da nossa classe com começo maiusculo ou composta junta (ContaCorrente) (não obrigatório)!\n",
    "- Quando estamos planejando um software e definimos as classes do sistema, chamamos estes objetos mapeados de entidade.\n",
    "\"\"\"\n",
    "\n",
    "\n",
    "class Lampada:\n",
    "    pass\n",
    "\n",
    "lamp = Lampada()\n",
    "print(type(lamp))"
   ]
  },
  {
   "cell_type": "markdown",
   "metadata": {},
   "source": [
    "# Atributos"
   ]
  },
  {
   "cell_type": "code",
   "execution_count": 9,
   "metadata": {},
   "outputs": [],
   "source": [
    "\"\"\" \n",
    "Atributos representam as caracteristicas de um objeto.\n",
    "Tipos de Atributos:\n",
    "     -Atributos de Instacia\n",
    "     -Atributos de Classe\n",
    "     -Atributos Dinâmicos\n",
    "\n",
    "     \n",
    "# Atributos de Instância: São atributos declarados dentro do método construtor.\n",
    "-Método construtor: Método especial para a construção do objeto.\n",
    "-self: Objeto que esta executando o metodo\n",
    "\"\"\"\n",
    "# Classes com atributos de instância públicos:\n",
    "class Lampada():\n",
    "    def __init__(self,voltagem,cor):\n",
    "        self.voltagem = voltagem\n",
    "        self.cor = cor\n",
    "        self.ligada = False\n",
    "\n",
    "class ContaCorrente:\n",
    "    def __init__(self,numero,limite,saldo):\n",
    "        self.numero = numero\n",
    "        self.limite = limite\n",
    "        self.saldo = saldo\n",
    "\n",
    "class Produto:\n",
    "    def __init__(self,nome,descricao,valor):\n",
    "        self.nome = nome\n",
    "        self.descricao = descricao\n",
    "        self.valor = valor\n",
    "\n",
    "class Usuario:\n",
    "    def __init__(self,nome,email,senha):\n",
    "        self.nome=nome\n",
    "        self.email=email\n",
    "        self.senha=senha\n",
    "#self é convencao\n",
    "\"\"\"\n",
    "class Teste():        \n",
    "    def __init__(batata,nome,idade):\n",
    "        batata.nome = nome\n",
    "\"\"\"\n",
    "#Atributos Públicos e Privados:\n",
    "\"\"\"\n",
    "# Atributos privados podem somente ser utilizados na classe no qual foram criados.\n",
    "# Atributos publicos podem ser acessado no projeto\n",
    "# Em python, por convenção, todo atributo de uma classe é público.\n",
    "# Para declarar um atributo privado, devemos utilizar \" __ \" duplo underscore no inicio de seu nome\n",
    "\"\"\"\n",
    "\n",
    "# Classes de instância com atributos privados:\n",
    "\n",
    "class Acesso:\n",
    "    def __init__(self,email,senha):\n",
    "        self.__email=email\n",
    "        self.__senha=senha\n",
    "\n",
    "# Obs: isso é uma convenção,o python não impede voce de acessar os atributos privados, mas para ter acesso esse nome não funciona.\n",
    "        #voce teria que buscar o nome secreto para ter acesso\n",
    "\n",
    "# Atributos de instancia significa que ao criarmos objetos/instancias de uma classe, todas as instancias terao acesso a estes atributos.\n",
    "        \n",
    "        "
   ]
  },
  {
   "cell_type": "code",
   "execution_count": 11,
   "metadata": {},
   "outputs": [
    {
     "name": "stdout",
     "output_type": "stream",
     "text": [
      "2415.0\n",
      "1155.0\n",
      "1\n",
      "2\n"
     ]
    }
   ],
   "source": [
    "# Atributo de Classe\n",
    "\"\"\" \n",
    "São declarados diretamente na classe, ou seja, fora do construtor. Geralmente ja inicializamos um valor,\n",
    "e este é compartilhado entre todas as instâncias da classe.\n",
    "\"\"\"\n",
    "\n",
    "class Produto:\n",
    "    imposto =1.05\n",
    "    contador =0\n",
    "    def __init__(self,nome,descricao,valor):\n",
    "        self.id = Produto.contador + 1\n",
    "        self.nome = nome\n",
    "        self.descricao = descricao\n",
    "        self.valor = (valor*Produto.imposto)\n",
    "        Produto.contador = self.id\n",
    "p1 = Produto('Ps4','video game',2300)\n",
    "p2 = Produto('Xbox 360','video game',1100)\n",
    "\n",
    "print(p1.valor)\n",
    "print(p2.valor)\n",
    "print(p1.id)\n",
    "print(p2.id)"
   ]
  },
  {
   "cell_type": "code",
   "execution_count": 15,
   "metadata": {},
   "outputs": [
    {
     "name": "stdout",
     "output_type": "stream",
     "text": [
      "Produto: Arroz, Peso: 5Kg\n",
      "{'id': 1, 'nome': 'Ps4', 'descricao': 'video game', 'valor': 2415.0}\n",
      "{'id': 2, 'nome': 'Arroz', 'descricao': 'Alimento', 'valor': 6.9195, 'peso': '5Kg'}\n",
      "{'id': 1, 'nome': 'Ps4', 'descricao': 'video game', 'valor': 2415.0}\n",
      "{'id': 2, 'nome': 'Arroz', 'descricao': 'Alimento'}\n"
     ]
    }
   ],
   "source": [
    "# Atributos dinâmicos\n",
    "\n",
    "\"\"\" \n",
    "Pode ser criado em tempo de execução\n",
    "\n",
    "OBS: O atributo dinâmico é exclusivo da instância que o criou\n",
    "\"\"\"\n",
    "\n",
    "\n",
    "class Produto:\n",
    "    imposto =1.05\n",
    "    contador =0\n",
    "    def __init__(self,nome,descricao,valor):\n",
    "        self.id = Produto.contador + 1\n",
    "        self.nome = nome\n",
    "        self.descricao = descricao\n",
    "        self.valor = (valor*Produto.imposto)\n",
    "        Produto.contador = self.id\n",
    "p1 = Produto('Ps4','video game',2300)\n",
    "p2 = Produto('Arroz','Alimento',6.59)\n",
    "\n",
    "# Criando atributo em tempo de execução\n",
    "\n",
    "p2.peso = '5Kg'\n",
    "\n",
    "print(f'Produto: {p2.nome}, Peso: {p2.peso}')\n",
    "#print(f'Produto: {p1.nome}, Peso: {p1.peso}') ---> erro, pois não existe o atributo peso em p1\n",
    "\n",
    "# Deletando atributos\n",
    "\n",
    "print(p1.__dict__) # __dict_ retorna um dicionário\n",
    "print(p2.__dict__)\n",
    "\n",
    "del p2.peso #deleta atributo dinâmico\n",
    "del p2.valor #deleta atributo não dinâmico\n",
    "print(p1.__dict__) \n",
    "print(p2.__dict__)\n",
    "\n",
    "\n",
    "\n"
   ]
  }
 ],
 "metadata": {
  "kernelspec": {
   "display_name": ".venv",
   "language": "python",
   "name": "python3"
  },
  "language_info": {
   "codemirror_mode": {
    "name": "ipython",
    "version": 3
   },
   "file_extension": ".py",
   "mimetype": "text/x-python",
   "name": "python",
   "nbconvert_exporter": "python",
   "pygments_lexer": "ipython3",
   "version": "3.8.5"
  }
 },
 "nbformat": 4,
 "nbformat_minor": 2
}
