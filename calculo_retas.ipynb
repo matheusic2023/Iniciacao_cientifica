{
 "cells": [
  {
   "cell_type": "code",
   "execution_count": 1,
   "metadata": {},
   "outputs": [],
   "source": [
    "def line_from_points(point1, point2):\n",
    "    x1, y1 = point1\n",
    "    x2, y2 = point2\n",
    "    a = y2 - y1\n",
    "    b = x1 - x2\n",
    "    c = a * x1 + b * y1\n",
    "    if b < 0:\n",
    "        return f\"The line passing through points {point1} and {point2} is: {a}x - {-b}y = {c}\"\n",
    "    else:\n",
    "        return f\"The line passing through points {point1} and {point2} is: {a}x + {b}y = {c}\"\n"
   ]
  },
  {
   "cell_type": "code",
   "execution_count": 2,
   "metadata": {},
   "outputs": [
    {
     "name": "stdout",
     "output_type": "stream",
     "text": [
      "Status: Optimal\n",
      "Valor de x = 0.74275362\n",
      "Valor de y = 0.50724638\n",
      "Valor da função objetivo Z = 22.836413018800002\n",
      "Calorias: 153.4963767 , Proteinas: 22.836413018800002\n"
     ]
    }
   ],
   "source": [
    "import pulp\n",
    "\n",
    "# Criação do problema de maximização\n",
    "lp_problem = pulp.LpProblem(\"Exemplo_PL\", pulp.LpMaximize)\n",
    "\n",
    "# Definição das variáveis\n",
    "x = pulp.LpVariable(\"x\", lowBound=0,cat='Float')  # x >= 0\n",
    "y = pulp.LpVariable(\"y\", lowBound=0,cat='Float')  # y >= 0\n",
    "\n",
    "# Adição da função objetivo\n",
    "lp_problem += 21.41*x + 13.67*y, \"Z\"\n",
    "\n",
    "# Adição das restrições\n",
    "lp_problem +=  x + y >= 0.7, \"1\"\n",
    "lp_problem +=  x + y <= 1.25, \"2\"\n",
    "lp_problem +=  5*x + 8.45*y >= 8, \"3\"\n",
    "lp_problem +=  5*x + 8.45*y <= 12, \"4\"\n",
    "\n",
    "# Resolução do problema\n",
    "lp_problem.solve()\n",
    "\n",
    "\n",
    "cal = pulp.value(137*x + 102*y)\n",
    "pro = pulp.value(21.41*x + 13.67*y)\n",
    "# Exibição dos resultados\n",
    "print(\"Status:\", pulp.LpStatus[lp_problem.status])\n",
    "print(\"Valor de x =\", pulp.value(x))\n",
    "print(\"Valor de y =\", pulp.value(y))\n",
    "print(\"Valor da função objetivo Z =\", pulp.value(lp_problem.objective))\n",
    "print(f'Calorias: {cal} , Proteinas: {pro}')"
   ]
  },
  {
   "cell_type": "code",
   "execution_count": 4,
   "metadata": {},
   "outputs": [
    {
     "name": "stdout",
     "output_type": "stream",
     "text": [
      "Status: Optimal\n",
      "Valor de x = 0.0\n",
      "Valor de y = 1.25\n",
      "Valor da função objetivo Z = 2.5\n",
      "Calorias: 127.5 , Proteinas: 17.0875\n"
     ]
    }
   ],
   "source": [
    "import pulp\n",
    "\n",
    "# Criação do problema de maximização\n",
    "lp_problem = pulp.LpProblem(\"Exemplo_PL\", pulp.LpMaximize)\n",
    "\n",
    "# Definição das variáveis\n",
    "x = pulp.LpVariable(\"x\", lowBound=0,cat='Float')  # x >= 0\n",
    "y = pulp.LpVariable(\"y\", lowBound=0,cat='Float')  # y >= 0\n",
    "\n",
    "# Adição da função objetivo\n",
    "lp_problem += pulp.lpDot([1,2], [x,y]), \"Z\"\n",
    "\n",
    "# Adição das restrições\n",
    "lp_problem +=  x + y >= 0.7, \"1\"\n",
    "lp_problem +=  x + y <= 1.25, \"2\"\n",
    "lp_problem +=  5*x + 8.45*y >= 8, \"3\"\n",
    "lp_problem +=  5*x + 8.45*y <= 12, \"4\"\n",
    "\n",
    "# Resolução do problema\n",
    "lp_problem.solve()\n",
    "\n",
    "\n",
    "cal = pulp.value(137*x + 102*y)\n",
    "pro = pulp.value(21.41*x + 13.67*y)\n",
    "# Exibição dos resultados\n",
    "print(\"Status:\", pulp.LpStatus[lp_problem.status])\n",
    "print(\"Valor de x =\", pulp.value(x))\n",
    "print(\"Valor de y =\", pulp.value(y))\n",
    "print(\"Valor da função objetivo Z =\", pulp.value(lp_problem.objective))\n",
    "print(f'Calorias: {cal} , Proteinas: {pro}')"
   ]
  },
  {
   "cell_type": "code",
   "execution_count": null,
   "metadata": {},
   "outputs": [],
   "source": []
  },
  {
   "cell_type": "code",
   "execution_count": 4,
   "metadata": {},
   "outputs": [
    {
     "name": "stdout",
     "output_type": "stream",
     "text": [
      "['x0']\n",
      "<class 'pulp.pulp.LpVariable'>\n"
     ]
    }
   ],
   "source": [
    "lp_problem = pulp.LpProblem(\"Exemplo_PL\", pulp.LpMaximize)\n",
    "\n",
    "n = int(input())\n",
    "\n",
    "vars = [ ]\n",
    "for i in range(n):\n",
    "    vars.append(f\"x{i}\")\n",
    "\n",
    "print(vars)\n",
    "\n",
    "vglobal = globals()\n",
    "\n",
    "for i in range(n):\n",
    "    vglobal[vars[i]] = pulp.LpVariable(vars[i], lowBound=0,cat='Float')\n",
    "\n",
    "\n",
    "for i in range(n):\n",
    "    print(type(vglobal[vars[i]]))\n",
    "\n"
   ]
  },
  {
   "cell_type": "code",
   "execution_count": 5,
   "metadata": {},
   "outputs": [
    {
     "data": {
      "text/plain": [
       "[1.0]"
      ]
     },
     "execution_count": 5,
     "metadata": {},
     "output_type": "execute_result"
    }
   ],
   "source": [
    "vector = list(map(float, input().split()))\n",
    "vector\n"
   ]
  },
  {
   "cell_type": "code",
   "execution_count": 27,
   "metadata": {},
   "outputs": [],
   "source": [
    "\n",
    "def funcoes_objetivos(n,nfuncoes_objetivos):\n",
    "    lp_problem = pulp.LpProblem(\"Exemplo_PL\", pulp.LpMaximize)\n",
    "\n",
    "    #Criando as variáveis do problema\n",
    "    vars = [ ]\n",
    "    for i in range(n):\n",
    "        vars.append(f\"x{i}\")\n",
    "\n",
    "    print(vars)\n",
    "\n",
    "    vglobal = globals()\n",
    "    variable = [ ]\n",
    "    for i in range(n):\n",
    "        vglobal[vars[i]] = pulp.LpVariable(vars[i], lowBound=0,cat='Float')\n",
    "        variable.append(vglobal[vars[i]])\n",
    "\n",
    "    for i in range(n):\n",
    "        print(type(vglobal[vars[i]]))\n",
    "    \n",
    "    obj_func = []\n",
    "    \n",
    "    for i in range(nfuncoes_objetivos):\n",
    "        obj_func.append(f\"f{i}\")\n",
    "    objglobals = globals()\n",
    "    for i in range(nfuncoes_objetivos):\n",
    "        objglobals[obj_func[i]] =  list(map(float, input(f\"Informe os coeficientes das variáveis x{0} até x{n-1}\").split()))\n",
    "    soma = 0\n",
    "    for j in range(nfuncoes_objetivos):\n",
    "        soma = soma + pulp.lpDot(objglobals[obj_func[j]], variable)\n",
    "    lp_problem += soma, 'Z'\n",
    "    lp_problem +=  5*x0 + 8.45*x1 <= 12, \"4\"\n",
    "\n",
    "# Resolução do problema\n",
    "    lp_problem.solve()\n",
    "    print(\"Valor de x =\", pulp.value(x0))\n",
    "    print(\"Valor de y =\", pulp.value(x1))\n",
    "    print(\"Valor da função objetivo Z =\", pulp.value(lp_problem.objective))\n",
    "\n",
    "    "
   ]
  },
  {
   "cell_type": "code",
   "execution_count": 30,
   "metadata": {},
   "outputs": [
    {
     "name": "stdout",
     "output_type": "stream",
     "text": [
      "['x0', 'x1']\n",
      "<class 'pulp.pulp.LpVariable'>\n",
      "<class 'pulp.pulp.LpVariable'>\n",
      "Valor de x = 0.0\n",
      "Valor de y = 1.4201183\n",
      "Valor da função objetivo Z = 59.6449686\n"
     ]
    }
   ],
   "source": [
    "funcoes_objetivos(2,1)"
   ]
  },
  {
   "cell_type": "code",
   "execution_count": 7,
   "metadata": {},
   "outputs": [
    {
     "name": "stdout",
     "output_type": "stream",
     "text": [
      "1 2 3\n"
     ]
    }
   ],
   "source": [
    "# Cria uma lista com os nomes das variáveis\n",
    "nomes = [\"var1\", \"var2\", \"var3\"]\n",
    "\n",
    "# Cria um dicionário com as variáveis globais\n",
    "g = globals()\n",
    "\n",
    "# Atribui valores às variáveis usando o dicionário\n",
    "for i in range(len(nomes)):\n",
    "  g[nomes[i]] = i + 1\n",
    "\n",
    "# Imprime os valores das variáveis\n",
    "print(var1, var2, var3)"
   ]
  }
 ],
 "metadata": {
  "kernelspec": {
   "display_name": "Python 3",
   "language": "python",
   "name": "python3"
  },
  "language_info": {
   "codemirror_mode": {
    "name": "ipython",
    "version": 3
   },
   "file_extension": ".py",
   "mimetype": "text/x-python",
   "name": "python",
   "nbconvert_exporter": "python",
   "pygments_lexer": "ipython3",
   "version": "3.8.5"
  }
 },
 "nbformat": 4,
 "nbformat_minor": 2
}
