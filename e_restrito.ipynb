{
 "cells": [
  {
   "cell_type": "code",
   "execution_count": 1,
   "metadata": {},
   "outputs": [
    {
     "data": {
      "text/plain": [
       "'\\nOBS: todas as matrizes e vetores são np.array!\\nn = # de variáveis do problema\\nA = Matriz dos coeficientes das desigualdades <= de X, sem contar as restrições feitas com as funções objetivas\\nb = vetor de Ax<=b\\ncoeficientes_fun_pri = Matriz de Coeficientes da função objetiva a ser otimizada\\nfuncao_principal = Função a ser otimizada\\nnum_funcao_restricao = numero de Funções que irão se tornar restrições\\nmatriz_coeficientes_f_aux = Coeficientes de tais funções\\nepsilons = vetor dos epsilons\\n'"
      ]
     },
     "execution_count": 1,
     "metadata": {},
     "output_type": "execute_result"
    }
   ],
   "source": [
    "\"\"\"\n",
    "OBS: todas as matrizes e vetores são np.array!\n",
    "n = # de variáveis do problema\n",
    "A = Matriz dos coeficientes das desigualdades <= de X, sem contar as restrições feitas com as funções objetivas\n",
    "b = vetor de Ax<=b\n",
    "coeficientes_fun_pri = Matriz de Coeficientes da função objetiva a ser otimizada\n",
    "\n",
    "num_funcao_restricao = numero de Funções que irão se tornar restrições\n",
    "matriz_coeficientes_f_aux = Coeficientes de tais funções\n",
    "epsilons = vetor dos epsilons\n",
    "\"\"\""
   ]
  },
  {
   "cell_type": "code",
   "execution_count": 1,
   "metadata": {},
   "outputs": [],
   "source": [
    "from pulp import LpMaximize, LpProblem, LpStatus, lpSum, LpVariable,lpDot\n",
    "import numpy as np\n",
    "\n",
    "\n",
    "def e_restrito(n,A,b,coeficientes_fun_pri,num_funcao_restricao,matriz_coeficientes_f_aux,epsilons):\n",
    "    model = LpProblem(name=\"large-problem\", sense=LpMaximize)\n",
    "   # Neste trabalho será tratado apenas dos casos lineares com variáveis reais\n",
    "\n",
    "    x = [LpVariable(name=f\"x{i}\", lowBound=0) for i in range(n)]\n",
    "    rest1 = A.shape[0]\n",
    "    \n",
    "    # Criamos Uma lista que contêm todas as variáveis do problema.\n",
    "\n",
    "    for i in range(rest1):\n",
    "        model += (lpDot(A[i], x) <= b[i], f\"restrição {i}\")\n",
    "\n",
    "    # Funções Objetivas\n",
    "\n",
    "    funcao_principal = lpDot(coeficientes_fun_pri,x)\n",
    "    model += funcao_principal\n",
    "\n",
    "\n",
    "    for i in range(num_funcao_restricao):\n",
    "        model += (lpDot(matriz_coeficientes_f_aux[i], x) >= epsilons[i], f\"restrição {rest1+i}\")\n",
    "\n",
    "\n",
    "    status = model.solve()\n",
    "    sol = np.zeros(n)\n",
    "    for i in range(n):\n",
    "        sol[i] = x[i].value()\n",
    "    print(f\"Solução: {sol}\")\n",
    "    sol = np.transpose(sol)\n",
    "    value_func_aux = np.zeros(num_funcao_restricao)\n",
    "    \n",
    "    for i in range(num_funcao_restricao):\n",
    "     value_func_aux[i] = np.dot(matriz_coeficientes_f_aux,sol)\n",
    "    for i in range(num_funcao_restricao):\n",
    "        print(f\"O valor de f{i+2} é: {value_func_aux[i]}\")\n",
    "    print(f\"status: {model.status}, {LpStatus[model.status]}\")\n",
    "    print(f\"Objetivo: {model.objective.value()}\")\n",
    "    #print(model)\n",
    "\n",
    "\n",
    "\n"
   ]
  },
  {
   "cell_type": "code",
   "execution_count": 2,
   "metadata": {},
   "outputs": [
    {
     "name": "stdout",
     "output_type": "stream",
     "text": [
      "Para o epsilon: -3, temos a seguinte solução:\n",
      "Solução: [4. 4.]\n",
      "O valor de f2 é: 0.0\n",
      "status: 1, Optimal\n",
      "Objetivo: 8.0\n",
      "Para o epsilon: -2, temos a seguinte solução:\n",
      "Solução: [4. 4.]\n",
      "O valor de f2 é: 0.0\n",
      "status: 1, Optimal\n",
      "Objetivo: 8.0\n",
      "Para o epsilon: 0, temos a seguinte solução:\n",
      "Solução: [4. 4.]\n",
      "O valor de f2 é: 0.0\n",
      "status: 1, Optimal\n",
      "Objetivo: 8.0\n",
      "Para o epsilon: 1, temos a seguinte solução:\n",
      "Solução: [3.2 4.2]\n",
      "O valor de f2 é: 1.0\n",
      "status: 1, Optimal\n",
      "Objetivo: 7.4\n",
      "Para o epsilon: 3, temos a seguinte solução:\n",
      "Solução: [1.6 4.6]\n",
      "O valor de f2 é: 2.9999999999999996\n",
      "status: 1, Optimal\n",
      "Objetivo: 6.199999999999999\n",
      "Para o epsilon: 5, temos a seguinte solução:\n",
      "Solução: [0. 5.]\n",
      "O valor de f2 é: 5.0\n",
      "status: 1, Optimal\n",
      "Objetivo: 5.0\n"
     ]
    }
   ],
   "source": [
    "n=2\n",
    "A = np.array([[1,4],[2,1],[1,0]])\n",
    "b=np.array([20,12,5])\n",
    "coeficientes_fun_pri=np.array([1,1])\n",
    "num_funcao_restricao=1\n",
    "matriz_coeficientes_f_aux = np.array([[-1,1]])\n",
    "epsilons = np.array([1])\n",
    "\n",
    "eps = [-3,-2,0,1,3,5]\n",
    "\n",
    "for i in range(len(eps)):\n",
    "    print(f\"Para o epsilon: {eps[i]}, temos a seguinte solução:\")\n",
    "    e_restrito(n,A,b,coeficientes_fun_pri,num_funcao_restricao,matriz_coeficientes_f_aux,np.array([eps[i]]))"
   ]
  },
  {
   "cell_type": "code",
   "execution_count": 4,
   "metadata": {},
   "outputs": [
    {
     "name": "stdout",
     "output_type": "stream",
     "text": [
      "Para o epsilon: 10, temos a seguinte solução:\n"
     ]
    },
    {
     "name": "stdout",
     "output_type": "stream",
     "text": [
      "Solução: [0.         0.         0.         0.         0.         0.45045045]\n",
      "O valor de f2 é: 9.99999999\n",
      "status: 1, Optimal\n",
      "Objetivo: -0.45045045\n",
      "Para o epsilon: 20, temos a seguinte solução:\n",
      "Solução: [0.        0.        0.        0.        0.        0.9009009]\n",
      "O valor de f2 é: 19.99999998\n",
      "status: 1, Optimal\n",
      "Objetivo: -0.9009009\n",
      "Para o epsilon: 30, temos a seguinte solução:\n",
      "Solução: [0.         0.         0.28031452 0.0539609  0.         1.0623747 ]\n",
      "O valor de f2 é: 29.999999014399997\n",
      "status: 1, Optimal\n",
      "Objetivo: -1.7394746371999998\n",
      "Para o epsilon: 90, temos a seguinte solução:\n",
      "Solução: [0.        0.        3.0710122 0.0539609 0.        1.0623747]\n",
      "O valor de f2 é: 89.9999991344\n",
      "status: 1, Optimal\n",
      "Objetivo: -8.158079301199999\n"
     ]
    }
   ],
   "source": [
    "# Problema da Dieta\n",
    "\n",
    "n=6\n",
    "A = np.array([[0.6,0,0,78.9,36,60],[4,2.7,1.1,0.1,0.5,0.3],[120,48.6,56.1,0.6,0,9.8],[0.12,0,0,1.7,3,33.8],[92,136.6,119.2,358.1,167,331.4]])\n",
    "b=np.array([68,10,2000,36,2000])\n",
    "coeficientes_fun_pri=np.array([-3,-3.52,-2.3,-0.6,-1,-1])\n",
    "num_funcao_restricao=1\n",
    "matriz_coeficientes_f_aux = np.array([[12,19.4,21.5,7.2,3.5,22.2]])\n",
    "eps = [10,20,30,90]\n",
    "\n",
    "for i in range(len(eps)):\n",
    "    print(f\"Para o epsilon: {eps[i]}, temos a seguinte solução:\")\n",
    "    e_restrito(n,A,b,coeficientes_fun_pri,num_funcao_restricao,matriz_coeficientes_f_aux,np.array([eps[i]]))"
   ]
  },
  {
   "cell_type": "code",
   "execution_count": 1,
   "metadata": {},
   "outputs": [
    {
     "name": "stdout",
     "output_type": "stream",
     "text": [
      "x0: 100.0\n",
      "x1: 0.0\n",
      "x2: 0.0\n",
      "x3: 0.0\n",
      "x4: 0.0\n",
      "x5: 0.0\n",
      "x6: 0.0\n",
      "x7: 0.0\n",
      "x8: 0.0\n",
      "x9: 0.0\n",
      "x10: 0.0\n",
      "x11: 0.0\n",
      "x12: 0.0\n",
      "x13: 0.0\n",
      "x14: 0.0\n",
      "x15: 0.0\n",
      "x16: 0.0\n",
      "x17: 0.0\n",
      "x18: 0.0\n",
      "x19: 0.0\n",
      "x20: 0.0\n",
      "x21: 0.0\n",
      "x22: 0.0\n",
      "x23: 0.0\n",
      "x24: 0.0\n",
      "status: 1, Optimal\n",
      "objective: 100.0\n"
     ]
    }
   ],
   "source": [
    "from pulp import LpMaximize, LpProblem, LpStatus, lpSum, LpVariable\n",
    "\n",
    "# Crie o problema\n",
    "model = LpProblem(name=\"large-problem\", sense=LpMaximize)\n",
    "\n",
    "# Inicialize as variáveis de decisão\n",
    "x = [LpVariable(name=f\"x{i}\", lowBound=0) for i in range(25)]\n",
    "\n",
    "# Adicione as restrições ao problema\n",
    "# Esta é uma restrição de exemplo, você pode adicionar suas próprias restrições\n",
    "model += (lpSum(x[i] for i in range(25)) <= 100, \"restrição 1\")\n",
    "\n",
    "# Adicione a função objetivo ao problema\n",
    "model += lpSum(x[i] for i in range(25))\n",
    "\n",
    "# Resolva o problema\n",
    "status = model.solve()\n",
    "\n",
    "for i in range(25):\n",
    "    print(f\"{x[i].name}: {x[i].value()}\")\n",
    "\n",
    "print(f\"status: {model.status}, {LpStatus[model.status]}\")\n",
    "print(f\"objective: {model.objective.value()}\")"
   ]
  }
 ],
 "metadata": {
  "kernelspec": {
   "display_name": "Python 3",
   "language": "python",
   "name": "python3"
  },
  "language_info": {
   "codemirror_mode": {
    "name": "ipython",
    "version": 3
   },
   "file_extension": ".py",
   "mimetype": "text/x-python",
   "name": "python",
   "nbconvert_exporter": "python",
   "pygments_lexer": "ipython3",
   "version": "3.8.5"
  }
 },
 "nbformat": 4,
 "nbformat_minor": 2
}
